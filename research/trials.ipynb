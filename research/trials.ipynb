{
 "cells": [
  {
   "cell_type": "code",
   "execution_count": 2,
   "metadata": {},
   "outputs": [],
   "source": [
    "import warnings\n",
    "warnings.filterwarnings(\"ignore\")"
   ]
  },
  {
   "cell_type": "code",
   "execution_count": 1,
   "metadata": {},
   "outputs": [
    {
     "data": {
      "text/plain": [
       "'c:\\\\Users\\\\NoorNahiyanB\\\\Downloads\\\\Books\\\\MedPrepAI-RAG\\\\research'"
      ]
     },
     "execution_count": 1,
     "metadata": {},
     "output_type": "execute_result"
    }
   ],
   "source": [
    "%pwd"
   ]
  },
  {
   "cell_type": "code",
   "execution_count": 3,
   "metadata": {},
   "outputs": [],
   "source": [
    "import os\n",
    "os.chdir(\"../\")"
   ]
  },
  {
   "cell_type": "code",
   "execution_count": 4,
   "metadata": {},
   "outputs": [
    {
     "data": {
      "text/plain": [
       "'c:\\\\Users\\\\NoorNahiyanB\\\\Downloads\\\\Books\\\\MedPrepAI-RAG'"
      ]
     },
     "execution_count": 4,
     "metadata": {},
     "output_type": "execute_result"
    }
   ],
   "source": [
    "%pwd"
   ]
  },
  {
   "cell_type": "code",
   "execution_count": 5,
   "metadata": {},
   "outputs": [],
   "source": [
    "from langchain.document_loaders import PyPDFLoader, DirectoryLoader\n",
    "from langchain.text_splitter import RecursiveCharacterTextSplitter"
   ]
  },
  {
   "cell_type": "code",
   "execution_count": 6,
   "metadata": {},
   "outputs": [],
   "source": [
    "#Extract Data From the PDF File\n",
    "def load_pdf_file(data):\n",
    "    loader= DirectoryLoader(data,\n",
    "                            glob=\"*.pdf\",\n",
    "                            loader_cls=PyPDFLoader)\n",
    "\n",
    "    documents=loader.load()\n",
    "\n",
    "    return documents\n"
   ]
  },
  {
   "cell_type": "code",
   "execution_count": 7,
   "metadata": {},
   "outputs": [],
   "source": [
    "extracted_data=load_pdf_file(data='Data/')"
   ]
  },
  {
   "cell_type": "code",
   "execution_count": 9,
   "metadata": {},
   "outputs": [],
   "source": [
    "#extracted_data"
   ]
  },
  {
   "cell_type": "code",
   "execution_count": 10,
   "metadata": {},
   "outputs": [],
   "source": [
    "#Split the Data into Text Chunks\n",
    "def text_split(extracted_data):\n",
    "    text_splitter=RecursiveCharacterTextSplitter(chunk_size=500, chunk_overlap=20)\n",
    "    text_chunks=text_splitter.split_documents(extracted_data)\n",
    "    return text_chunks"
   ]
  },
  {
   "cell_type": "code",
   "execution_count": 11,
   "metadata": {},
   "outputs": [
    {
     "name": "stdout",
     "output_type": "stream",
     "text": [
      "Length of Text Chunks 5227\n"
     ]
    }
   ],
   "source": [
    "text_chunks=text_split(extracted_data)\n",
    "print(\"Length of Text Chunks\", len(text_chunks))"
   ]
  },
  {
   "cell_type": "code",
   "execution_count": 12,
   "metadata": {},
   "outputs": [],
   "source": [
    "# text_chunks"
   ]
  },
  {
   "cell_type": "code",
   "execution_count": 13,
   "metadata": {},
   "outputs": [],
   "source": [
    "from langchain.embeddings import HuggingFaceEmbeddings\n",
    "from sentence_transformers import SentenceTransformer"
   ]
  },
  {
   "cell_type": "code",
   "execution_count": 14,
   "metadata": {},
   "outputs": [],
   "source": [
    "#Download the Embeddings from Hugging Face\n",
    "def download_hugging_face_embeddings():\n",
    "    embeddings=HuggingFaceEmbeddings(model_name='sentence-transformers/all-MiniLM-L6-v2')\n",
    "    return embeddings\n"
   ]
  },
  {
   "cell_type": "code",
   "execution_count": 15,
   "metadata": {},
   "outputs": [
    {
     "name": "stderr",
     "output_type": "stream",
     "text": [
      "C:\\Users\\NoorNahiyanB\\AppData\\Local\\Temp\\ipykernel_13388\\1196424635.py:3: LangChainDeprecationWarning: The class `HuggingFaceEmbeddings` was deprecated in LangChain 0.2.2 and will be removed in 1.0. An updated version of the class exists in the :class:`~langchain-huggingface package and should be used instead. To use it run `pip install -U :class:`~langchain-huggingface` and import as `from :class:`~langchain_huggingface import HuggingFaceEmbeddings``.\n",
      "  embeddings=HuggingFaceEmbeddings(model_name='sentence-transformers/all-MiniLM-L6-v2')\n"
     ]
    }
   ],
   "source": [
    "embeddings = download_hugging_face_embeddings()"
   ]
  },
  {
   "cell_type": "code",
   "execution_count": 16,
   "metadata": {},
   "outputs": [
    {
     "name": "stdout",
     "output_type": "stream",
     "text": [
      "Length 384\n"
     ]
    }
   ],
   "source": [
    "query_result = embeddings.embed_query(\"Hello world\")\n",
    "print(\"Length\", len(query_result))"
   ]
  },
  {
   "cell_type": "code",
   "execution_count": 17,
   "metadata": {},
   "outputs": [],
   "source": [
    "# query_result"
   ]
  },
  {
   "cell_type": "code",
   "execution_count": 27,
   "metadata": {},
   "outputs": [],
   "source": [
    "PINECONE_API_KEY=os.environ.get('PINECONE_API_KEY')\n",
    "OPENAI_API_KEY=os.environ.get('OPENAI_API_KEY')"
   ]
  },
  {
   "cell_type": "code",
   "execution_count": 29,
   "metadata": {},
   "outputs": [
    {
     "data": {
      "text/plain": [
       "{\n",
       "    \"name\": \"medprep\",\n",
       "    \"metric\": \"cosine\",\n",
       "    \"host\": \"medprep-ukt67zh.svc.aped-4627-b74a.pinecone.io\",\n",
       "    \"spec\": {\n",
       "        \"serverless\": {\n",
       "            \"cloud\": \"aws\",\n",
       "            \"region\": \"us-east-1\"\n",
       "        }\n",
       "    },\n",
       "    \"status\": {\n",
       "        \"ready\": true,\n",
       "        \"state\": \"Ready\"\n",
       "    },\n",
       "    \"vector_type\": \"dense\",\n",
       "    \"dimension\": 384,\n",
       "    \"deletion_protection\": \"disabled\",\n",
       "    \"tags\": null\n",
       "}"
      ]
     },
     "execution_count": 29,
     "metadata": {},
     "output_type": "execute_result"
    }
   ],
   "source": [
    "from pinecone import Pinecone, ServerlessSpec\n",
    "import os\n",
    "\n",
    "# Initialize Pinecone with API key\n",
    "pc = Pinecone(api_key=PINECONE_API_KEY)\n",
    "\n",
    "# Define index name\n",
    "index_name = \"medprep\"\n",
    "\n",
    "# Create the index\n",
    "pc.create_index(\n",
    "    name=index_name,\n",
    "    dimension=384,  # Replace with your model dimensions\n",
    "    metric=\"cosine\",  # Replace with your model metric\n",
    "    spec=ServerlessSpec(\n",
    "        cloud=\"aws\",\n",
    "        region=\"us-east-1\"\n",
    "    )\n",
    ")"
   ]
  },
  {
   "cell_type": "code",
   "execution_count": 22,
   "metadata": {},
   "outputs": [
    {
     "data": {
      "text/plain": [
       "True"
      ]
     },
     "execution_count": 22,
     "metadata": {},
     "output_type": "execute_result"
    }
   ],
   "source": [
    "from dotenv import load_dotenv\n",
    "load_dotenv()"
   ]
  },
  {
   "cell_type": "code",
   "execution_count": 30,
   "metadata": {},
   "outputs": [],
   "source": [
    "os.environ[\"OPENAI_API_KEY\"] = os.getenv(\"OPENAI_API_KEY\")\n"
   ]
  },
  {
   "cell_type": "code",
   "execution_count": 31,
   "metadata": {},
   "outputs": [],
   "source": [
    "os.environ[\"PINECONE_API_KEY\"] = os.getenv(\"PINECONE_API_KEY\")\n"
   ]
  },
  {
   "cell_type": "code",
   "execution_count": 32,
   "metadata": {},
   "outputs": [],
   "source": [
    "os.environ[\"OPENAI_API_KEY\"] = OPENAI_API_KEY"
   ]
  },
  {
   "cell_type": "code",
   "execution_count": 33,
   "metadata": {},
   "outputs": [],
   "source": [
    "# Embed each chunk and upsert the embeddings into your Pinecone index.\n",
    "from langchain_pinecone import PineconeVectorStore\n",
    "\n",
    "docsearch = PineconeVectorStore.from_documents(\n",
    "    documents=text_chunks,\n",
    "    index_name=index_name,\n",
    "    embedding=embeddings, \n",
    ")"
   ]
  },
  {
   "cell_type": "code",
   "execution_count": 34,
   "metadata": {},
   "outputs": [],
   "source": [
    "# Load Existing index \n",
    "\n",
    "from langchain_pinecone import PineconeVectorStore\n",
    "# Embed each chunk and upsert the embeddings into your Pinecone index.\n",
    "docsearch = PineconeVectorStore.from_existing_index(\n",
    "    index_name=index_name,\n",
    "    embedding=embeddings\n",
    ")"
   ]
  },
  {
   "cell_type": "code",
   "execution_count": 35,
   "metadata": {},
   "outputs": [
    {
     "data": {
      "text/plain": [
       "<langchain_pinecone.vectorstores.PineconeVectorStore at 0x25f2299f340>"
      ]
     },
     "execution_count": 35,
     "metadata": {},
     "output_type": "execute_result"
    }
   ],
   "source": [
    "docsearch"
   ]
  },
  {
   "cell_type": "code",
   "execution_count": 36,
   "metadata": {},
   "outputs": [],
   "source": [
    "retriever = docsearch.as_retriever(search_type=\"similarity\", search_kwargs={\"k\":3})"
   ]
  },
  {
   "cell_type": "code",
   "execution_count": 38,
   "metadata": {},
   "outputs": [],
   "source": [
    "retrieved_docs = retriever.invoke(\"Explain Estrogen Pathway?\")"
   ]
  },
  {
   "cell_type": "code",
   "execution_count": 39,
   "metadata": {},
   "outputs": [
    {
     "data": {
      "text/plain": [
       "[Document(id='5b4bf0ba-13ec-42fb-a79d-cb404db3bc7d', metadata={'author': 'Tao Le, Connie Qiu, Panagiotis Kaparaliotis, Kimberly Kallianos, Vikas Bhushan, Anup Chalise, Caroline Coleman and Sean Evans', 'creationdate': '2024-02-27T11:11:22+05:30', 'creator': 'Adobe InDesign 18.5 (Macintosh)', 'moddate': '2024-03-04T15:58:07+05:30', 'page': 668.0, 'page_label': '648', 'producer': 'Adobe PDF Library 17.0; modified using iText® 5.5.6 ©2000-2015 iText Group NV (AGPL-version)', 'source': 'Data\\\\First Aid for the USMLE Step 1 2024, 34th Edition.pdf', 'title': 'First Aid for the® USMLE Step 1 2024: A Student-to-Student Guide', 'total_pages': 868.0, 'trapped': '/False'}, page_content='RepRoductive  `\\u2009REPRODUCTIVE—PHy SIOl OgyRepRoductive  `\\u2009REPRODUCTIVE—PHy SIOl OgySectioN iii648\\nEstrogen\\nSOURCE Ovary (estradiol), placenta (estriol), adipose \\ntissue (estrone via aromatization).\\nPotency: estradiol > estrone > estriol.\\nEstradiol is produced from 2 ovaries.\\nFUNCTION Development of internal/external genitalia, \\nbreasts, female fat distribution.\\nGrowth of follicle, endometrial proliferation, \\n\\x8f myometrial excitability.\\nUpregulation of estrogen, LH, and progesterone'),\n",
       " Document(id='9ea578b0-3de0-438c-96cd-99596f99500a', metadata={'author': 'Tao Le, Connie Qiu, Panagiotis Kaparaliotis, Kimberly Kallianos, Vikas Bhushan, Anup Chalise, Caroline Coleman and Sean Evans', 'creationdate': '2024-02-27T11:11:22+05:30', 'creator': 'Adobe InDesign 18.5 (Macintosh)', 'moddate': '2024-03-04T15:58:07+05:30', 'page': 811.0, 'page_label': '791', 'producer': 'Adobe PDF Library 17.0; modified using iText® 5.5.6 ©2000-2015 iText Group NV (AGPL-version)', 'source': 'Data\\\\First Aid for the USMLE Step 1 2024, 34th Edition.pdf', 'title': 'First Aid for the® USMLE Step 1 2024: A Student-to-Student Guide', 'total_pages': 868.0, 'trapped': '/False'}, page_content='Establishing rapport, 270\\nEstradiol, 648\\nEstriol, 648, 652\\nEstrogen, 649, 656\\nandrogen conversion to, 653\\nbone formation, 462\\nepiphyseal plate closure, 653\\ngynecomastia (males), 667\\nin ovulation, 649\\nmenopause, 653\\nsignaling pathways for, 341\\nsource and function of, 648\\nTurner syndrome, 655\\nEstrogen receptor modulators \\n(selective), 674\\nEstrone, 648\\nEszopiclone, 562\\nEtanercept, 497\\nEthacrynic acid, 626\\nEthambutol, 194\\ndrug reactions with, 250\\nmechanism and adverse effects, \\n193\\nEthanol'),\n",
       " Document(id='927d06a8-0802-4d7b-b1d4-38209c27b0e3', metadata={'author': 'Tao Le, Connie Qiu, Panagiotis Kaparaliotis, Kimberly Kallianos, Vikas Bhushan, Anup Chalise, Caroline Coleman and Sean Evans', 'creationdate': '2024-02-27T11:11:22+05:30', 'creator': 'Adobe InDesign 18.5 (Macintosh)', 'moddate': '2024-03-04T15:58:07+05:30', 'page': 693.0, 'page_label': '673', 'producer': 'Adobe PDF Library 17.0; modified using iText® 5.5.6 ©2000-2015 iText Group NV (AGPL-version)', 'source': 'Data\\\\First Aid for the USMLE Step 1 2024, 34th Edition.pdf', 'title': 'First Aid for the® USMLE Step 1 2024: A Student-to-Student Guide', 'total_pages': 868.0, 'trapped': '/False'}, page_content='RepRoductive  `\\u2009REPRODUCTIVE—PHARm ACOl OgyRepRoductive  `\\u2009REPRODUCTIVE—P ATHOl Ogy SectioN iii 673 \\n\\u2009`REPRODUCTIVE—PHARm ACOl Ogy\\nControl of reproductive hormones\\nHypothalamus\\nAnterior\\npituitary\\nGnRH\\nFSH\\nLH\\nLH\\nOvary TestisFSH\\nLH\\nTestosterone\\n5α−reductase\\nDihydrotestosterone\\nAndrogen-receptor\\n       complex\\nGene expression\\nin androgen-\\nresponsive cells\\nTestosterone\\nEstradiol\\nAndrostenedione\\nEstrone\\nGene expression\\nin estrogen-\\nresponsive cells\\nEstriol\\n-\\n+Clomiphene\\nDegarelix\\nGoserelin\\nLeuprolide')]"
      ]
     },
     "execution_count": 39,
     "metadata": {},
     "output_type": "execute_result"
    }
   ],
   "source": [
    "retrieved_docs"
   ]
  },
  {
   "cell_type": "code",
   "execution_count": 40,
   "metadata": {},
   "outputs": [],
   "source": [
    "from langchain_openai import OpenAI\n",
    "llm = OpenAI(temperature=0.4, max_tokens=500)"
   ]
  },
  {
   "cell_type": "code",
   "execution_count": 41,
   "metadata": {},
   "outputs": [],
   "source": [
    "from langchain.chains import create_retrieval_chain\n",
    "from langchain.chains.combine_documents import create_stuff_documents_chain\n",
    "from langchain_core.prompts import ChatPromptTemplate\n",
    "\n",
    "\n",
    "system_prompt = (\n",
    "    \"You are an assistant for question-answering tasks. \"\n",
    "    \"Use the following pieces of retrieved context to answer \"\n",
    "    \"the question. If you don't know the answer, say that you \"\n",
    "    \"are not aware of this topic. Use three sentences maximum and keep the \"\n",
    "    \"answer concise.\"\n",
    "    \"\\n\\n\"\n",
    "    \"{context}\"\n",
    ")\n",
    "\n",
    "\n",
    "prompt = ChatPromptTemplate.from_messages(\n",
    "    [\n",
    "        (\"system\", system_prompt),\n",
    "        (\"human\", \"{input}\"),\n",
    "    ]\n",
    ")"
   ]
  },
  {
   "cell_type": "code",
   "execution_count": 42,
   "metadata": {},
   "outputs": [],
   "source": [
    "question_answer_chain = create_stuff_documents_chain(llm, prompt)\n",
    "rag_chain = create_retrieval_chain(retriever, question_answer_chain)"
   ]
  },
  {
   "cell_type": "code",
   "execution_count": 43,
   "metadata": {},
   "outputs": [
    {
     "name": "stdout",
     "output_type": "stream",
     "text": [
      "\n",
      "\n",
      "Rheumatoid arthritis is an autoimmune disorder that causes inflammation and formation of pannus, while osteoarthritis is a mechanical disorder caused by wear and tear on articular cartilage. Rheumatoid arthritis also has a genetic component and is more common in females, while osteoarthritis is more common in older individuals and is not linked to a specific gene. Both conditions can lead to joint pain and damage, but they have different underlying causes and treatments.\n"
     ]
    }
   ],
   "source": [
    "response = rag_chain.invoke({\"input\": \"What is the difference between rheumatoid arthritis and ostheoarthritis?\"})\n",
    "print(response[\"answer\"])"
   ]
  },
  {
   "cell_type": "code",
   "execution_count": 45,
   "metadata": {},
   "outputs": [
    {
     "name": "stdout",
     "output_type": "stream",
     "text": [
      "\n",
      "\n",
      "The cerebral perfusion pressure (CPP) is directly proportional to the partial pressure of carbon dioxide (Pco2) until Pco2 reaches a level above 90 mm Hg. This means that as Pco2 increases, CPP also increases, until a certain threshold is reached. However, severe hypoxia can also modulate cerebral perfusion, and in this case, the relationship between CPP and Pco2 may not hold true. Additionally, CPP relies on a pressure gradient between mean arterial pressure (MAP) and intracranial pressure (ICP), and if CPP reaches 0, there is no cerebral perfusion and brain death may occur.\n"
     ]
    }
   ],
   "source": [
    "response = rag_chain.invoke({\"input\": \"what is the Relation Between Cerebral Perfusion pressure and partial pressure of carbon di oxide?\"})\n",
    "print(response[\"answer\"])"
   ]
  },
  {
   "cell_type": "code",
   "execution_count": 47,
   "metadata": {},
   "outputs": [
    {
     "name": "stdout",
     "output_type": "stream",
     "text": [
      "\n",
      "\n",
      "I am not aware of this topic.\n"
     ]
    }
   ],
   "source": [
    "response = rag_chain.invoke({\"input\": \"Where is Bangladesh?\"})\n",
    "print(response[\"answer\"])"
   ]
  },
  {
   "cell_type": "code",
   "execution_count": null,
   "metadata": {},
   "outputs": [],
   "source": []
  }
 ],
 "metadata": {
  "kernelspec": {
   "display_name": "mediguide",
   "language": "python",
   "name": "python3"
  },
  "language_info": {
   "codemirror_mode": {
    "name": "ipython",
    "version": 3
   },
   "file_extension": ".py",
   "mimetype": "text/x-python",
   "name": "python",
   "nbconvert_exporter": "python",
   "pygments_lexer": "ipython3",
   "version": "3.10.16"
  },
  "orig_nbformat": 4
 },
 "nbformat": 4,
 "nbformat_minor": 2
}
